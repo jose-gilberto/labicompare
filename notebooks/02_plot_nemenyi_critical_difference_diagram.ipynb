{
 "cells": [
  {
   "cell_type": "code",
   "execution_count": 1,
   "metadata": {},
   "outputs": [],
   "source": [
    "import pandas as pd\n",
    "from labicompare.visualization import critical_difference_diagram"
   ]
  },
  {
   "cell_type": "markdown",
   "metadata": {},
   "source": [
    "### Loading the metrics dataset\n",
    "\n",
    "As soon you have the metrics for all models that you want to compare, we only need to put these values in a `.csv` file in the following format:\n",
    "```csv\n",
    "model_1,model_2,model_3\n",
    "model_1_metric_1,model_2_metric_1,model_3_metric_1\n",
    "model_1_metric_2,model_2_metric_2,model_3_metric_2\n",
    "model_1_metric_3,model_2_metric_3,model_3_metric_3\n",
    "```\n",
    "\n",
    "Each column represents a model, in this case models 1, 2 and 3. Each row of the dataset represents a metric obtained on tha dataset of that row. For example, the first line may represent the metrics for dataset A obtained by the models 1, 2 and 3.\n",
    "\n",
    "You can use any metric that you want to compare, accuracy, f1, precision, recall, ..."
   ]
  },
  {
   "cell_type": "code",
   "execution_count": 2,
   "metadata": {},
   "outputs": [
    {
     "data": {
      "text/html": [
       "<div>\n",
       "<style scoped>\n",
       "    .dataframe tbody tr th:only-of-type {\n",
       "        vertical-align: middle;\n",
       "    }\n",
       "\n",
       "    .dataframe tbody tr th {\n",
       "        vertical-align: top;\n",
       "    }\n",
       "\n",
       "    .dataframe thead th {\n",
       "        text-align: right;\n",
       "    }\n",
       "</style>\n",
       "<table border=\"1\" class=\"dataframe\">\n",
       "  <thead>\n",
       "    <tr style=\"text-align: right;\">\n",
       "      <th></th>\n",
       "      <th>LR</th>\n",
       "      <th>LDA</th>\n",
       "      <th>KNN</th>\n",
       "      <th>DT</th>\n",
       "      <th>NB</th>\n",
       "      <th>SVM</th>\n",
       "    </tr>\n",
       "  </thead>\n",
       "  <tbody>\n",
       "    <tr>\n",
       "      <th>0</th>\n",
       "      <td>0.420271</td>\n",
       "      <td>0.003401</td>\n",
       "      <td>0.000000</td>\n",
       "      <td>0.000000</td>\n",
       "      <td>0.000000</td>\n",
       "      <td>0.013468</td>\n",
       "    </tr>\n",
       "    <tr>\n",
       "      <th>1</th>\n",
       "      <td>0.955112</td>\n",
       "      <td>0.945968</td>\n",
       "      <td>0.974231</td>\n",
       "      <td>0.829593</td>\n",
       "      <td>0.837074</td>\n",
       "      <td>0.976725</td>\n",
       "    </tr>\n",
       "    <tr>\n",
       "      <th>2</th>\n",
       "      <td>0.016869</td>\n",
       "      <td>0.003367</td>\n",
       "      <td>0.000000</td>\n",
       "      <td>0.010101</td>\n",
       "      <td>0.000000</td>\n",
       "      <td>0.020236</td>\n",
       "    </tr>\n",
       "    <tr>\n",
       "      <th>3</th>\n",
       "      <td>0.921260</td>\n",
       "      <td>0.944882</td>\n",
       "      <td>0.916010</td>\n",
       "      <td>0.913386</td>\n",
       "      <td>0.955381</td>\n",
       "      <td>0.908136</td>\n",
       "    </tr>\n",
       "    <tr>\n",
       "      <th>4</th>\n",
       "      <td>0.969994</td>\n",
       "      <td>0.970291</td>\n",
       "      <td>0.960190</td>\n",
       "      <td>0.939691</td>\n",
       "      <td>0.980095</td>\n",
       "      <td>0.949792</td>\n",
       "    </tr>\n",
       "  </tbody>\n",
       "</table>\n",
       "</div>"
      ],
      "text/plain": [
       "         LR       LDA       KNN        DT        NB       SVM\n",
       "0  0.420271  0.003401  0.000000  0.000000  0.000000  0.013468\n",
       "1  0.955112  0.945968  0.974231  0.829593  0.837074  0.976725\n",
       "2  0.016869  0.003367  0.000000  0.010101  0.000000  0.020236\n",
       "3  0.921260  0.944882  0.916010  0.913386  0.955381  0.908136\n",
       "4  0.969994  0.970291  0.960190  0.939691  0.980095  0.949792"
      ]
     },
     "execution_count": 2,
     "metadata": {},
     "output_type": "execute_result"
    }
   ],
   "source": [
    "metrics = pd.read_csv('./example_metrics.csv')\n",
    "metrics"
   ]
  },
  {
   "cell_type": "markdown",
   "metadata": {},
   "source": [
    "### Generating the Critical Difference Diagram\n",
    "\n",
    "Once you have the `.csv` file in the correct format, the only thing you need to do to generate the critical difference is to call the method passing the metrics and the test that you want to execute, in this case, the Nemenyi."
   ]
  },
  {
   "cell_type": "code",
   "execution_count": 3,
   "metadata": {},
   "outputs": [
    {
     "data": {
      "image/png": "[encoded data removed]",
      "text/plain": [
       "<Figure size 600x175 with 1 Axes>"
      ]
     },
     "metadata": {},
     "output_type": "display_data"
    }
   ],
   "source": [
    "fig = critical_difference_diagram(\n",
    "    metrics=metrics,\n",
    "    test='nemenyi',\n",
    "    alpha=0.05\n",
    ")"
   ]
  },
  {
   "cell_type": "markdown",
   "metadata": {},
   "source": [
    "Note that the Nemenyi does a comparison of all classifiers against each other. Groups of classifiers that are not significantly different (at p=0.05) are connected."
   ]
  }
 ],
 "metadata": {
  "kernelspec": {
   "display_name": "base",
   "language": "python",
   "name": "python3"
  },
  "language_info": {
   "codemirror_mode": {
    "name": "ipython",
    "version": 3
   },
   "file_extension": ".py",
   "mimetype": "text/x-python",
   "name": "python",
   "nbconvert_exporter": "python",
   "pygments_lexer": "ipython3",
   "version": "3.12.4"
  }
 },
 "nbformat": 4,
 "nbformat_minor": 2
}
