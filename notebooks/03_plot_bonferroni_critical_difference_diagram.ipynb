{
 "cells": [
  {
   "cell_type": "code",
   "execution_count": 1,
   "metadata": {},
   "outputs": [],
   "source": [
    "import pandas as pd\n",
    "from labicompare.visualization import critical_difference_diagram"
   ]
  },
  {
   "cell_type": "markdown",
   "metadata": {},
   "source": [
    "### Loading the metrics dataset\n",
    "\n",
    "As well as in the notebook 02 for the Nemenyi critical difference diagram, we need a csv file in the previous informed format.\n",
    "\n",
    "\"Each column representing a model, each row presenting a metric for a model in that dataset. For example, the first line may provide a metric for each model in the dataset A.\"\n",
    "\n",
    "For the metric we can use any metric that fits with our task (accuracy, rmse, f1, ...)."
   ]
  },
  {
   "cell_type": "code",
   "execution_count": 2,
   "metadata": {},
   "outputs": [
    {
     "data": {
      "text/html": [
       "<div>\n",
       "<style scoped>\n",
       "    .dataframe tbody tr th:only-of-type {\n",
       "        vertical-align: middle;\n",
       "    }\n",
       "\n",
       "    .dataframe tbody tr th {\n",
       "        vertical-align: top;\n",
       "    }\n",
       "\n",
       "    .dataframe thead th {\n",
       "        text-align: right;\n",
       "    }\n",
       "</style>\n",
       "<table border=\"1\" class=\"dataframe\">\n",
       "  <thead>\n",
       "    <tr style=\"text-align: right;\">\n",
       "      <th></th>\n",
       "      <th>LR</th>\n",
       "      <th>LDA</th>\n",
       "      <th>KNN</th>\n",
       "      <th>DT</th>\n",
       "      <th>NB</th>\n",
       "      <th>SVM</th>\n",
       "    </tr>\n",
       "  </thead>\n",
       "  <tbody>\n",
       "    <tr>\n",
       "      <th>0</th>\n",
       "      <td>0.420271</td>\n",
       "      <td>0.003401</td>\n",
       "      <td>0.000000</td>\n",
       "      <td>0.000000</td>\n",
       "      <td>0.000000</td>\n",
       "      <td>0.013468</td>\n",
       "    </tr>\n",
       "    <tr>\n",
       "      <th>1</th>\n",
       "      <td>0.955112</td>\n",
       "      <td>0.945968</td>\n",
       "      <td>0.974231</td>\n",
       "      <td>0.829593</td>\n",
       "      <td>0.837074</td>\n",
       "      <td>0.976725</td>\n",
       "    </tr>\n",
       "    <tr>\n",
       "      <th>2</th>\n",
       "      <td>0.016869</td>\n",
       "      <td>0.003367</td>\n",
       "      <td>0.000000</td>\n",
       "      <td>0.010101</td>\n",
       "      <td>0.000000</td>\n",
       "      <td>0.020236</td>\n",
       "    </tr>\n",
       "    <tr>\n",
       "      <th>3</th>\n",
       "      <td>0.921260</td>\n",
       "      <td>0.944882</td>\n",
       "      <td>0.916010</td>\n",
       "      <td>0.913386</td>\n",
       "      <td>0.955381</td>\n",
       "      <td>0.908136</td>\n",
       "    </tr>\n",
       "    <tr>\n",
       "      <th>4</th>\n",
       "      <td>0.969994</td>\n",
       "      <td>0.970291</td>\n",
       "      <td>0.960190</td>\n",
       "      <td>0.939691</td>\n",
       "      <td>0.980095</td>\n",
       "      <td>0.949792</td>\n",
       "    </tr>\n",
       "  </tbody>\n",
       "</table>\n",
       "</div>"
      ],
      "text/plain": [
       "         LR       LDA       KNN        DT        NB       SVM\n",
       "0  0.420271  0.003401  0.000000  0.000000  0.000000  0.013468\n",
       "1  0.955112  0.945968  0.974231  0.829593  0.837074  0.976725\n",
       "2  0.016869  0.003367  0.000000  0.010101  0.000000  0.020236\n",
       "3  0.921260  0.944882  0.916010  0.913386  0.955381  0.908136\n",
       "4  0.969994  0.970291  0.960190  0.939691  0.980095  0.949792"
      ]
     },
     "execution_count": 2,
     "metadata": {},
     "output_type": "execute_result"
    }
   ],
   "source": [
    "metrics = pd.read_csv('./example_metrics.csv')\n",
    "metrics"
   ]
  },
  {
   "cell_type": "markdown",
   "metadata": {},
   "source": [
    "### Generating the Critical Difference Diagram\n",
    "\n",
    "One you have loaded the `csv` file, we only need to generate the Critical Difference diagram (CD diagram) by calling the function `critical_difference_diagram` and passing the metrics, test, and alpha value as parameters for that function."
   ]
  },
  {
   "cell_type": "code",
   "execution_count": 3,
   "metadata": {},
   "outputs": [
    {
     "data": {
      "image/png": "[encoded data removed]",
      "text/plain": [
       "<Figure size 600x150 with 1 Axes>"
      ]
     },
     "metadata": {},
     "output_type": "display_data"
    }
   ],
   "source": [
    "fig = critical_difference_diagram(\n",
    "    metrics=metrics,\n",
    "    test='bonferroni',\n",
    "    alpha=0.05\n",
    ")"
   ]
  },
  {
   "cell_type": "markdown",
   "metadata": {},
   "source": [
    "This will generate a comparison of one classifier against the others with Bonferroni-Dunn test. All classifiers with ranks outside the marked interval are significantly different (p < 0.05) from the control."
   ]
  }
 ],
 "metadata": {
  "kernelspec": {
   "display_name": "base",
   "language": "python",
   "name": "python3"
  },
  "language_info": {
   "codemirror_mode": {
    "name": "ipython",
    "version": 3
   },
   "file_extension": ".py",
   "mimetype": "text/x-python",
   "name": "python",
   "nbconvert_exporter": "python",
   "pygments_lexer": "ipython3",
   "version": "3.12.4"
  }
 },
 "nbformat": 4,
 "nbformat_minor": 2
}
